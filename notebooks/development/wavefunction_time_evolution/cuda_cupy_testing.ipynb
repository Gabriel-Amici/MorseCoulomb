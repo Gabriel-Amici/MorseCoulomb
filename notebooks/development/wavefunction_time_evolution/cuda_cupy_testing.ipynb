{
 "cells": [
  {
   "cell_type": "code",
   "execution_count": 2,
   "metadata": {},
   "outputs": [],
   "source": [
    "import numpy as np\n",
    "import cupy as cp"
   ]
  },
  {
   "cell_type": "code",
   "execution_count": 3,
   "metadata": {},
   "outputs": [],
   "source": [
    "position_grid = np.linspace(-2, 100, 6001)"
   ]
  },
  {
   "cell_type": "code",
   "execution_count": 16,
   "metadata": {},
   "outputs": [],
   "source": [
    "from emerald.quantum.msc_unperturbed import MsC_hamiltonian, MsC_eigstates\n",
    "H_cpu, position_grid = MsC_hamiltonian(0.5, position_grid)"
   ]
  },
  {
   "cell_type": "code",
   "execution_count": 17,
   "metadata": {},
   "outputs": [],
   "source": [
    "energies_cpu, vectors_cpu = MsC_eigstates(H_cpu, position_grid, 200)"
   ]
  },
  {
   "cell_type": "code",
   "execution_count": 10,
   "metadata": {},
   "outputs": [],
   "source": [
    "from emerald.quantum.utils import interaction_matrix, wavefunction_stationary_evolution"
   ]
  },
  {
   "cell_type": "code",
   "execution_count": 8,
   "metadata": {},
   "outputs": [],
   "source": [
    "Xi_vectors, Xi_values, Xi_inv = interaction_matrix(position_grid, vectors_cpu)"
   ]
  },
  {
   "cell_type": "code",
   "execution_count": 19,
   "metadata": {},
   "outputs": [
    {
     "name": "stdout",
     "output_type": "stream",
     "text": [
      "(6001,)\n",
      "(6001, 200)\n",
      "(200, 200)\n",
      "(200,)\n"
     ]
    }
   ],
   "source": [
    "print(position_grid.shape)\n",
    "print(vectors_cpu.shape)\n",
    "print(Xi_vectors.shape)\n",
    "print(energies_cpu.shape)"
   ]
  },
  {
   "cell_type": "code",
   "execution_count": 11,
   "metadata": {},
   "outputs": [
    {
     "name": "stderr",
     "output_type": "stream",
     "text": [
      "  0%|          | 0/99 [00:00<?, ?it/s]\n"
     ]
    },
    {
     "ename": "ValueError",
     "evalue": "operands could not be broadcast together with shapes (200,) (6001,) ",
     "output_type": "error",
     "traceback": [
      "\u001b[0;31m---------------------------------------------------------------------------\u001b[0m",
      "\u001b[0;31mValueError\u001b[0m                                Traceback (most recent call last)",
      "Cell \u001b[0;32mIn[11], line 1\u001b[0m\n\u001b[0;32m----> 1\u001b[0m wavefunc_history \u001b[38;5;241m=\u001b[39m \u001b[43mwavefunction_stationary_evolution\u001b[49m\u001b[43m(\u001b[49m\u001b[43mnp\u001b[49m\u001b[38;5;241;43m.\u001b[39;49m\u001b[43mlinspace\u001b[49m\u001b[43m(\u001b[49m\u001b[38;5;241;43m0\u001b[39;49m\u001b[43m,\u001b[49m\u001b[43m \u001b[49m\u001b[38;5;241;43m1\u001b[39;49m\u001b[43m,\u001b[49m\u001b[43m \u001b[49m\u001b[38;5;241;43m100\u001b[39;49m\u001b[43m)\u001b[49m\u001b[43m,\u001b[49m\u001b[43m \u001b[49m\u001b[43menergies_cpu\u001b[49m\u001b[43m,\u001b[49m\u001b[43m \u001b[49m\u001b[43mvectors_cpu\u001b[49m\u001b[43m[\u001b[49m\u001b[43m:\u001b[49m\u001b[43m,\u001b[49m\u001b[43m \u001b[49m\u001b[38;5;241;43m0\u001b[39;49m\u001b[43m]\u001b[49m\u001b[43m)\u001b[49m\n",
      "File \u001b[0;32m/media/gabriel/AcerD/Documentos/cursos/IC/Morse-Coulomb/emerald/src/emerald/quantum/utils.py:17\u001b[0m, in \u001b[0;36mwavefunction_stationary_evolution\u001b[0;34m(time_grid, energies, initial_state)\u001b[0m\n\u001b[1;32m     14\u001b[0m exp_H0 \u001b[38;5;241m=\u001b[39m np\u001b[38;5;241m.\u001b[39mexp( \u001b[38;5;241m-\u001b[39m\u001b[38;5;241m1\u001b[39mj\u001b[38;5;241m*\u001b[39menergies\u001b[38;5;241m*\u001b[39mdelta_t )\n\u001b[1;32m     16\u001b[0m \u001b[38;5;28;01mfor\u001b[39;00m tau \u001b[38;5;129;01min\u001b[39;00m tqdm(\u001b[38;5;28mrange\u001b[39m(\u001b[38;5;241m1\u001b[39m, N_T)):\n\u001b[0;32m---> 17\u001b[0m     wavefunc_history[:, tau] \u001b[38;5;241m=\u001b[39m \u001b[43mexp_H0\u001b[49m\u001b[38;5;241;43m*\u001b[39;49m\u001b[43mwavefunc_history\u001b[49m\u001b[43m[\u001b[49m\u001b[43m:\u001b[49m\u001b[43m,\u001b[49m\u001b[43m \u001b[49m\u001b[43mtau\u001b[49m\u001b[38;5;241;43m-\u001b[39;49m\u001b[38;5;241;43m1\u001b[39;49m\u001b[43m]\u001b[49m \u001b[38;5;66;03m#multiplicação pela exp(H0)\u001b[39;00m\n\u001b[1;32m     18\u001b[0m \u001b[38;5;28;01mreturn\u001b[39;00m wavefunc_history\n",
      "\u001b[0;31mValueError\u001b[0m: operands could not be broadcast together with shapes (200,) (6001,) "
     ]
    }
   ],
   "source": [
    "wavefunc_history = wavefunction_stationary_evolution(np.linspace(0, 1, 100), energies_cpu, vectors_cpu[:, 0])"
   ]
  },
  {
   "cell_type": "code",
   "execution_count": 37,
   "metadata": {},
   "outputs": [],
   "source": [
    "import cupyx"
   ]
  },
  {
   "cell_type": "code",
   "execution_count": 38,
   "metadata": {},
   "outputs": [],
   "source": [
    "import cupyx.scipy.linalg\n",
    "\n",
    "\n",
    "def MsC_potential_vec_cuda(alpha: float, r: cp.ndarray) -> cp.ndarray:\n",
    "    \"\"\"Calculates the 1D Morse-Coulomb potential for an array of positions r.\"\"\"\n",
    "    D = 1 / alpha\n",
    "    beta = 1 / (alpha * cp.sqrt(2))\n",
    "    \n",
    "    coulomb = -1 / cp.sqrt(r * r + alpha * alpha)\n",
    "    morse = D * (cp.exp(-2 * beta * r) - 2 * cp.exp(-beta * r))\n",
    "    \n",
    "    return cp.where(r > 0, coulomb, morse)\n",
    "\n",
    "def MsC_hamiltonian_cuda(alpha, position_grid):\n",
    "    # Grid setup\n",
    "    L = position_grid[-1] - position_grid[0]\n",
    "    delta_r = position_grid[1] - position_grid[0]\n",
    "    \n",
    "    N = int(cp.ceil(L / delta_r))\n",
    "    N += int(N % 2 == 0)  # Ensure N is odd\n",
    "    \n",
    "    r_grid = cp.linspace(position_grid[0], position_grid[-1], N)\n",
    "    n = (N - 1) // 2\n",
    "\n",
    "    # Compute the kinetic energy first row\n",
    "    l = cp.arange(n)\n",
    "    g = 2 * (np.pi * l / L) ** 2  # g[0] = 0 naturally\n",
    "    theta = 2 * np.pi / (N - 1)\n",
    "    k = cp.arange(N)\n",
    "    C = cp.cos(l[:, None] * k * theta)  # Shape: (n, N)\n",
    "    t = (2 / (N - 1)) * cp.dot(g, C)  # First row of T\n",
    "\n",
    "    # Construct Hamiltonian\n",
    "    T = cupyx.scipy.linalg.toeplitz(t)  # Symmetric Toeplitz matrix\n",
    "    V = cp.diag(MsC_potential_vec_cuda(alpha, r_grid))  # Diagonal potential\n",
    "    H = T + V\n",
    "\n",
    "    return H, r_grid"
   ]
  },
  {
   "cell_type": "code",
   "execution_count": 41,
   "metadata": {},
   "outputs": [],
   "source": [
    "def MsC_eigstates_cuda(H, position_grid):\n",
    "\n",
    "    delta_r = position_grid[1] - position_grid[0]\n",
    "\n",
    "    # Eigendecomposition\n",
    "    eig_energies, eig_states = cp.linalg.eigh(H)\n",
    "    sort_indexes = cp.argsort(eig_energies)\n",
    "    eig_energies = eig_energies[sort_indexes]\n",
    "    eig_states = eig_states[:, sort_indexes] / cp.sqrt(delta_r)\n",
    "\n",
    "    return eig_energies, eig_states"
   ]
  },
  {
   "cell_type": "code",
   "execution_count": 39,
   "metadata": {},
   "outputs": [],
   "source": [
    "H_gpu, position_grid_gpu = MsC_hamiltonian_cuda(0.5, position_grid)"
   ]
  },
  {
   "cell_type": "code",
   "execution_count": 42,
   "metadata": {},
   "outputs": [],
   "source": [
    "energies_gpu, vectors_gpu = MsC_eigstates_cuda(H_gpu, position_grid)"
   ]
  },
  {
   "cell_type": "code",
   "execution_count": 44,
   "metadata": {},
   "outputs": [
    {
     "name": "stdout",
     "output_type": "stream",
     "text": [
      "[-8.47826445e-01 -1.77874186e-01 -7.06029435e-02 ...  1.70622495e+04\n",
      "  1.70640259e+04  1.88557289e+04]\n",
      "[-3.40072415e-12 -4.68242112e-12 -4.57918425e-12 ...  3.63797881e-12\n",
      "  0.00000000e+00  0.00000000e+00]\n"
     ]
    }
   ],
   "source": [
    "print(energies_cpu)\n",
    "print(energies_cpu-cp.asnumpy(energies_gpu))"
   ]
  },
  {
   "cell_type": "code",
   "execution_count": 40,
   "metadata": {},
   "outputs": [
    {
     "name": "stdout",
     "output_type": "stream",
     "text": [
      "5.002220859751105e-12\n"
     ]
    }
   ],
   "source": [
    "print(np.max( np.abs(H_cpu-cp.asnumpy(H_gpu) )))"
   ]
  },
  {
   "cell_type": "code",
   "execution_count": 28,
   "metadata": {},
   "outputs": [],
   "source": [
    "x_gpu = cp.asarray(x_cpu)"
   ]
  },
  {
   "cell_type": "code",
   "execution_count": null,
   "metadata": {},
   "outputs": [],
   "source": []
  },
  {
   "cell_type": "code",
   "execution_count": 29,
   "metadata": {},
   "outputs": [
    {
     "ename": "OutOfMemoryError",
     "evalue": "Out of memory allocating 2,056,392,192 bytes (allocated so far: 1,320,000,000 bytes).",
     "output_type": "error",
     "traceback": [
      "\u001b[0;31m---------------------------------------------------------------------------\u001b[0m",
      "\u001b[0;31mOutOfMemoryError\u001b[0m                          Traceback (most recent call last)",
      "Cell \u001b[0;32mIn[29], line 1\u001b[0m\n\u001b[0;32m----> 1\u001b[0m w_gpu, v_gpu \u001b[38;5;241m=\u001b[39m \u001b[43mcp\u001b[49m\u001b[38;5;241;43m.\u001b[39;49m\u001b[43mlinalg\u001b[49m\u001b[38;5;241;43m.\u001b[39;49m\u001b[43meigh\u001b[49m\u001b[43m(\u001b[49m\u001b[43mx_gpu\u001b[49m\u001b[43m)\u001b[49m\n",
      "File \u001b[0;32m/media/gabriel/AcerD/Documentos/cursos/IC/Morse-Coulomb/emerald/.venv/lib/python3.12/site-packages/cupy/linalg/_eigenvalue.py:141\u001b[0m, in \u001b[0;36meigh\u001b[0;34m(a, UPLO)\u001b[0m\n\u001b[1;32m    139\u001b[0m     \u001b[38;5;28;01mreturn\u001b[39;00m w, v\n\u001b[1;32m    140\u001b[0m \u001b[38;5;28;01melse\u001b[39;00m:\n\u001b[0;32m--> 141\u001b[0m     \u001b[38;5;28;01mreturn\u001b[39;00m \u001b[43m_syevd\u001b[49m\u001b[43m(\u001b[49m\u001b[43ma\u001b[49m\u001b[43m,\u001b[49m\u001b[43m \u001b[49m\u001b[43mUPLO\u001b[49m\u001b[43m,\u001b[49m\u001b[43m \u001b[49m\u001b[38;5;28;43;01mTrue\u001b[39;49;00m\u001b[43m)\u001b[49m\n",
      "File \u001b[0;32m/media/gabriel/AcerD/Documentos/cursos/IC/Morse-Coulomb/emerald/.venv/lib/python3.12/site-packages/cupy/linalg/_eigenvalue.py:51\u001b[0m, in \u001b[0;36m_syevd\u001b[0;34m(a, UPLO, with_eigen_vector, overwrite_a)\u001b[0m\n\u001b[1;32m     47\u001b[0m \u001b[38;5;28;01mtry\u001b[39;00m:\n\u001b[1;32m     48\u001b[0m     work_device_size, work_host_sizse \u001b[38;5;241m=\u001b[39m cusolver\u001b[38;5;241m.\u001b[39mxsyevd_bufferSize(\n\u001b[1;32m     49\u001b[0m         handle, params, jobz, uplo, m, type_v, v\u001b[38;5;241m.\u001b[39mdata\u001b[38;5;241m.\u001b[39mptr, lda,\n\u001b[1;32m     50\u001b[0m         type_w, w\u001b[38;5;241m.\u001b[39mdata\u001b[38;5;241m.\u001b[39mptr, type_v)\n\u001b[0;32m---> 51\u001b[0m     work_device \u001b[38;5;241m=\u001b[39m \u001b[43mcupy\u001b[49m\u001b[38;5;241;43m.\u001b[39;49m\u001b[43mempty\u001b[49m\u001b[43m(\u001b[49m\u001b[43mwork_device_size\u001b[49m\u001b[43m,\u001b[49m\u001b[43m \u001b[49m\u001b[38;5;124;43m'\u001b[39;49m\u001b[38;5;124;43mb\u001b[39;49m\u001b[38;5;124;43m'\u001b[39;49m\u001b[43m)\u001b[49m\n\u001b[1;32m     52\u001b[0m     work_host \u001b[38;5;241m=\u001b[39m numpy\u001b[38;5;241m.\u001b[39mempty(work_host_sizse, \u001b[38;5;124m'\u001b[39m\u001b[38;5;124mb\u001b[39m\u001b[38;5;124m'\u001b[39m)\n\u001b[1;32m     53\u001b[0m     cusolver\u001b[38;5;241m.\u001b[39mxsyevd(\n\u001b[1;32m     54\u001b[0m         handle, params, jobz, uplo, m, type_v, v\u001b[38;5;241m.\u001b[39mdata\u001b[38;5;241m.\u001b[39mptr, lda,\n\u001b[1;32m     55\u001b[0m         type_w, w\u001b[38;5;241m.\u001b[39mdata\u001b[38;5;241m.\u001b[39mptr, type_v,\n\u001b[1;32m     56\u001b[0m         work_device\u001b[38;5;241m.\u001b[39mdata\u001b[38;5;241m.\u001b[39mptr, work_device_size,\n\u001b[1;32m     57\u001b[0m         work_host\u001b[38;5;241m.\u001b[39mctypes\u001b[38;5;241m.\u001b[39mdata, work_host_sizse, dev_info\u001b[38;5;241m.\u001b[39mdata\u001b[38;5;241m.\u001b[39mptr)\n",
      "File \u001b[0;32m/media/gabriel/AcerD/Documentos/cursos/IC/Morse-Coulomb/emerald/.venv/lib/python3.12/site-packages/cupy/_creation/basic.py:32\u001b[0m, in \u001b[0;36mempty\u001b[0;34m(shape, dtype, order)\u001b[0m\n\u001b[1;32m     13\u001b[0m \u001b[38;5;28;01mdef\u001b[39;00m \u001b[38;5;21mempty\u001b[39m(\n\u001b[1;32m     14\u001b[0m         shape: _ShapeLike,\n\u001b[1;32m     15\u001b[0m         dtype: DTypeLike \u001b[38;5;241m=\u001b[39m \u001b[38;5;28mfloat\u001b[39m,\n\u001b[1;32m     16\u001b[0m         order: _OrderCF \u001b[38;5;241m=\u001b[39m \u001b[38;5;124m'\u001b[39m\u001b[38;5;124mC\u001b[39m\u001b[38;5;124m'\u001b[39m,\n\u001b[1;32m     17\u001b[0m ) \u001b[38;5;241m-\u001b[39m\u001b[38;5;241m>\u001b[39m NDArray[Any]:\n\u001b[1;32m     18\u001b[0m \u001b[38;5;250m    \u001b[39m\u001b[38;5;124;03m\"\"\"Returns an array without initializing the elements.\u001b[39;00m\n\u001b[1;32m     19\u001b[0m \n\u001b[1;32m     20\u001b[0m \u001b[38;5;124;03m    Args:\u001b[39;00m\n\u001b[0;32m   (...)\u001b[0m\n\u001b[1;32m     30\u001b[0m \n\u001b[1;32m     31\u001b[0m \u001b[38;5;124;03m    \"\"\"\u001b[39;00m\n\u001b[0;32m---> 32\u001b[0m     \u001b[38;5;28;01mreturn\u001b[39;00m \u001b[43mcupy\u001b[49m\u001b[38;5;241;43m.\u001b[39;49m\u001b[43mndarray\u001b[49m\u001b[43m(\u001b[49m\u001b[43mshape\u001b[49m\u001b[43m,\u001b[49m\u001b[43m \u001b[49m\u001b[43mdtype\u001b[49m\u001b[43m,\u001b[49m\u001b[43m \u001b[49m\u001b[43morder\u001b[49m\u001b[38;5;241;43m=\u001b[39;49m\u001b[43morder\u001b[49m\u001b[43m)\u001b[49m\n",
      "File \u001b[0;32mcupy/_core/core.pyx:151\u001b[0m, in \u001b[0;36mcupy._core.core.ndarray.__new__\u001b[0;34m()\u001b[0m\n",
      "File \u001b[0;32mcupy/_core/core.pyx:239\u001b[0m, in \u001b[0;36mcupy._core.core._ndarray_base._init\u001b[0;34m()\u001b[0m\n",
      "File \u001b[0;32mcupy/cuda/memory.pyx:738\u001b[0m, in \u001b[0;36mcupy.cuda.memory.alloc\u001b[0;34m()\u001b[0m\n",
      "File \u001b[0;32mcupy/cuda/memory.pyx:1424\u001b[0m, in \u001b[0;36mcupy.cuda.memory.MemoryPool.malloc\u001b[0;34m()\u001b[0m\n",
      "File \u001b[0;32mcupy/cuda/memory.pyx:1445\u001b[0m, in \u001b[0;36mcupy.cuda.memory.MemoryPool.malloc\u001b[0;34m()\u001b[0m\n",
      "File \u001b[0;32mcupy/cuda/memory.pyx:1116\u001b[0m, in \u001b[0;36mcupy.cuda.memory.SingleDeviceMemoryPool.malloc\u001b[0;34m()\u001b[0m\n",
      "File \u001b[0;32mcupy/cuda/memory.pyx:1137\u001b[0m, in \u001b[0;36mcupy.cuda.memory.SingleDeviceMemoryPool._malloc\u001b[0;34m()\u001b[0m\n",
      "File \u001b[0;32mcupy/cuda/memory.pyx:1382\u001b[0m, in \u001b[0;36mcupy.cuda.memory.SingleDeviceMemoryPool._try_malloc\u001b[0;34m()\u001b[0m\n",
      "File \u001b[0;32mcupy/cuda/memory.pyx:1385\u001b[0m, in \u001b[0;36mcupy.cuda.memory.SingleDeviceMemoryPool._try_malloc\u001b[0;34m()\u001b[0m\n",
      "\u001b[0;31mOutOfMemoryError\u001b[0m: Out of memory allocating 2,056,392,192 bytes (allocated so far: 1,320,000,000 bytes)."
     ]
    }
   ],
   "source": [
    "w_gpu, v_gpu = cp.linalg.eigh(x_gpu)"
   ]
  },
  {
   "cell_type": "code",
   "execution_count": 45,
   "metadata": {},
   "outputs": [],
   "source": [
    "mempool = cp.get_default_memory_pool()\n",
    "mempool.free_all_blocks()"
   ]
  },
  {
   "cell_type": "code",
   "execution_count": 46,
   "metadata": {},
   "outputs": [],
   "source": [
    "pinned_mempool = cp.get_default_pinned_memory_pool()\n",
    "pinned_mempool.free_all_blocks()"
   ]
  }
 ],
 "metadata": {
  "kernelspec": {
   "display_name": ".venv",
   "language": "python",
   "name": "python3"
  },
  "language_info": {
   "codemirror_mode": {
    "name": "ipython",
    "version": 3
   },
   "file_extension": ".py",
   "mimetype": "text/x-python",
   "name": "python",
   "nbconvert_exporter": "python",
   "pygments_lexer": "ipython3",
   "version": "3.12.3"
  }
 },
 "nbformat": 4,
 "nbformat_minor": 2
}
